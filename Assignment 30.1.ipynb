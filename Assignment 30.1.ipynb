{
 "cells": [
  {
   "cell_type": "code",
   "execution_count": 1,
   "metadata": {
    "collapsed": true
   },
   "outputs": [],
   "source": [
    "import numpy as np\n",
    "from scipy import misc\n",
    "from sklearn.cluster import KMeans\n",
    "import matplotlib.pyplot as plt\n",
    "\n",
    "face = misc.face(gray=True)"
   ]
  },
  {
   "cell_type": "code",
   "execution_count": 2,
   "metadata": {},
   "outputs": [
    {
     "data": {
      "text/plain": [
       "<matplotlib.image.AxesImage at 0x84a96f0>"
      ]
     },
     "execution_count": 2,
     "metadata": {},
     "output_type": "execute_result"
    }
   ],
   "source": [
    "n_clusters = 5\n",
    "np.random.seed(0)\n",
    "\n",
    "X = face.reshape((-1, 1))\n",
    "k_means = KMeans(n_clusters=n_clusters, n_init=4)\n",
    "k_means.fit(X)\n",
    "values = k_means.cluster_centers_.squeeze()\n",
    "labels = k_means.labels_\n",
    "\n",
    "# create an array from labels and values\n",
    "face_compressed = np.choose(labels, values)\n",
    "face_compressed.shape = face.shape\n",
    "\n",
    "vmin = face.min()\n",
    "vmax = face.max()\n",
    "\n",
    "# original face\n",
    "plt.figure(1)\n",
    "plt.imshow(face, cmap=plt.cm.gray, vmin=vmin, vmax=256)\n",
    "\n",
    "# compressed face\n",
    "plt.figure(2)\n",
    "plt.imshow(face_compressed, cmap=plt.cm.gray, vmin=vmin, vmax=vmax)"
   ]
  },
  {
   "cell_type": "code",
   "execution_count": null,
   "metadata": {
    "collapsed": true
   },
   "outputs": [],
   "source": []
  }
 ],
 "metadata": {
  "kernelspec": {
   "display_name": "Python 3",
   "language": "python",
   "name": "python3"
  },
  "language_info": {
   "codemirror_mode": {
    "name": "ipython",
    "version": 3
   },
   "file_extension": ".py",
   "mimetype": "text/x-python",
   "name": "python",
   "nbconvert_exporter": "python",
   "pygments_lexer": "ipython3",
   "version": "3.6.3"
  }
 },
 "nbformat": 4,
 "nbformat_minor": 2
}
